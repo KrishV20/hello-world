{
  "nbformat": 4,
  "nbformat_minor": 0,
  "metadata": {
    "colab": {
      "provenance": [],
      "authorship_tag": "ABX9TyOxfYL6c03LXaf/iUDaX7Ym",
      "include_colab_link": true
    },
    "kernelspec": {
      "name": "python3",
      "display_name": "Python 3"
    },
    "language_info": {
      "name": "python"
    }
  },
  "cells": [
    {
      "cell_type": "markdown",
      "metadata": {
        "id": "view-in-github",
        "colab_type": "text"
      },
      "source": [
        "<a href=\"https://colab.research.google.com/github/KrishV20/hello-world/blob/main/FinalProblem3.ipynb\" target=\"_parent\"><img src=\"https://colab.research.google.com/assets/colab-badge.svg\" alt=\"Open In Colab\"/></a>"
      ]
    },
    {
      "cell_type": "code",
      "execution_count": null,
      "metadata": {
        "id": "NVvPY3UBcX6r",
        "colab": {
          "base_uri": "https://localhost:8080/"
        },
        "outputId": "d118c1dc-c5a2-4d39-91ec-3af3d0a6ecea"
      },
      "outputs": [
        {
          "output_type": "stream",
          "name": "stdout",
          "text": [
            "[1, 3, 8]\n",
            "[]\n"
          ]
        }
      ],
      "source": [
        "def uniqueValues(aDict):\n",
        "\n",
        "  value_count = {}\n",
        "  for value in aDict.values():\n",
        "      if value in value_count:\n",
        "          value_count[value] += 1\n",
        "      else:\n",
        "          value_count[value] = 1\n",
        "\n",
        "  unique_keys = []\n",
        "  for key, value in aDict.items():\n",
        "      if value_count[value] == 1:\n",
        "          unique_keys.append(key)\n",
        "  return sorted(unique_keys)\n",
        "\n",
        "aDict1 = {1: 1, 3: 2, 6: 0, 7: 0, 8: 4, 10: 0}\n",
        "aDict2 = {1: 1, 2: 1, 3: 1}\n",
        "\n",
        "print(uniqueValues(aDict1))\n",
        "print(uniqueValues(aDict2))"
      ]
    }
  ]
}