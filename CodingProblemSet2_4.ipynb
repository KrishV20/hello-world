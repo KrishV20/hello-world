{
  "nbformat": 4,
  "nbformat_minor": 0,
  "metadata": {
    "colab": {
      "provenance": [],
      "authorship_tag": "ABX9TyM+ZFesnybpOeQdbAnE9YUE",
      "include_colab_link": true
    },
    "kernelspec": {
      "name": "python3",
      "display_name": "Python 3"
    },
    "language_info": {
      "name": "python"
    }
  },
  "cells": [
    {
      "cell_type": "markdown",
      "metadata": {
        "id": "view-in-github",
        "colab_type": "text"
      },
      "source": [
        "<a href=\"https://colab.research.google.com/github/KrishV20/hello-world/blob/main/CodingProblemSet2_4.ipynb\" target=\"_parent\"><img src=\"https://colab.research.google.com/assets/colab-badge.svg\" alt=\"Open In Colab\"/></a>"
      ]
    },
    {
      "cell_type": "code",
      "execution_count": 25,
      "metadata": {
        "colab": {
          "base_uri": "https://localhost:8080/",
          "height": 0
        },
        "id": "0zMyvcUA45bF",
        "outputId": "7ce05daa-3075-4720-ab26-26e5fb8030af"
      },
      "outputs": [
        {
          "output_type": "execute_result",
          "data": {
            "text/plain": [
              "451.56"
            ]
          },
          "metadata": {},
          "execution_count": 25
        }
      ],
      "source": [
        "balance = 5000.0\n",
        "annualInterestRate = 0.18\n",
        "monthlyInterestRate = annualInterestRate / 12.0\n",
        "\n",
        "low = balance * 1/12\n",
        "high = balance * (annualInterestRate + 1)\n",
        "\n",
        "def findPayment(low,high):\n",
        "  payment = (high + low) / 2\n",
        "  remainingBalance = balance\n",
        "\n",
        "  while True:\n",
        "    for month in range(1,13):\n",
        "        remainingBalance -= payment\n",
        "        remainingBalance += remainingBalance * monthlyInterestRate\n",
        "\n",
        "    if 0 < remainingBalance <= 1:\n",
        "        return (round(payment,2))\n",
        "    elif remainingBalance < 0:\n",
        "        return findPayment(low,payment)\n",
        "    else:\n",
        "        return findPayment(payment,high)\n",
        "\n",
        "findPayment(low,high)\n",
        ""
      ]
    }
  ]
}