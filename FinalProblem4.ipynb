{
  "nbformat": 4,
  "nbformat_minor": 0,
  "metadata": {
    "colab": {
      "provenance": [],
      "authorship_tag": "ABX9TyOhelHUyYnFJbxbndVGjmJA",
      "include_colab_link": true
    },
    "kernelspec": {
      "name": "python3",
      "display_name": "Python 3"
    },
    "language_info": {
      "name": "python"
    }
  },
  "cells": [
    {
      "cell_type": "markdown",
      "metadata": {
        "id": "view-in-github",
        "colab_type": "text"
      },
      "source": [
        "<a href=\"https://colab.research.google.com/github/KrishV20/hello-world/blob/main/FinalProblem4.ipynb\" target=\"_parent\"><img src=\"https://colab.research.google.com/assets/colab-badge.svg\" alt=\"Open In Colab\"/></a>"
      ]
    },
    {
      "cell_type": "code",
      "execution_count": 3,
      "metadata": {
        "colab": {
          "base_uri": "https://localhost:8080/",
          "height": 309
        },
        "id": "8bQoKiBTohzR",
        "outputId": "b0f7130f-f26e-49c4-a734-60ada19426e9"
      },
      "outputs": [
        {
          "output_type": "stream",
          "name": "stdout",
          "text": [
            "citizen\n"
          ]
        },
        {
          "output_type": "error",
          "ename": "ValueError",
          "evalue": "",
          "traceback": [
            "\u001b[0;31m---------------------------------------------------------------------------\u001b[0m",
            "\u001b[0;31mValueError\u001b[0m                                Traceback (most recent call last)",
            "\u001b[0;32m<ipython-input-3-2a43fede36f9>\u001b[0m in \u001b[0;36m<cell line: 59>\u001b[0;34m()\u001b[0m\n\u001b[1;32m     57\u001b[0m \u001b[0ma\u001b[0m \u001b[0;34m=\u001b[0m \u001b[0mUSResident\u001b[0m\u001b[0;34m(\u001b[0m\u001b[0;34m'Tim Beaver'\u001b[0m\u001b[0;34m,\u001b[0m \u001b[0;34m'citizen'\u001b[0m\u001b[0;34m)\u001b[0m\u001b[0;34m\u001b[0m\u001b[0;34m\u001b[0m\u001b[0m\n\u001b[1;32m     58\u001b[0m \u001b[0mprint\u001b[0m\u001b[0;34m(\u001b[0m\u001b[0ma\u001b[0m\u001b[0;34m.\u001b[0m\u001b[0mgetStatus\u001b[0m\u001b[0;34m(\u001b[0m\u001b[0;34m)\u001b[0m\u001b[0;34m)\u001b[0m\u001b[0;34m\u001b[0m\u001b[0;34m\u001b[0m\u001b[0m\n\u001b[0;32m---> 59\u001b[0;31m \u001b[0mb\u001b[0m \u001b[0;34m=\u001b[0m \u001b[0mUSResident\u001b[0m\u001b[0;34m(\u001b[0m\u001b[0;34m'Tim Horton'\u001b[0m\u001b[0;34m,\u001b[0m \u001b[0;34m'non-resident'\u001b[0m\u001b[0;34m)\u001b[0m\u001b[0;34m\u001b[0m\u001b[0;34m\u001b[0m\u001b[0m\n\u001b[0m",
            "\u001b[0;32m<ipython-input-3-2a43fede36f9>\u001b[0m in \u001b[0;36m__init__\u001b[0;34m(self, name, status)\u001b[0m\n\u001b[1;32m     46\u001b[0m         \u001b[0msuper\u001b[0m\u001b[0;34m(\u001b[0m\u001b[0;34m)\u001b[0m\u001b[0;34m.\u001b[0m\u001b[0m__init__\u001b[0m\u001b[0;34m(\u001b[0m\u001b[0mname\u001b[0m\u001b[0;34m)\u001b[0m\u001b[0;34m\u001b[0m\u001b[0;34m\u001b[0m\u001b[0m\n\u001b[1;32m     47\u001b[0m         \u001b[0;32mif\u001b[0m \u001b[0mstatus\u001b[0m \u001b[0;32mnot\u001b[0m \u001b[0;32min\u001b[0m \u001b[0;34m[\u001b[0m\u001b[0;34m'citizen'\u001b[0m\u001b[0;34m,\u001b[0m \u001b[0;34m'legal_resident'\u001b[0m\u001b[0;34m,\u001b[0m \u001b[0;34m'illegal_resident'\u001b[0m\u001b[0;34m]\u001b[0m\u001b[0;34m:\u001b[0m\u001b[0;34m\u001b[0m\u001b[0;34m\u001b[0m\u001b[0m\n\u001b[0;32m---> 48\u001b[0;31m             \u001b[0;32mraise\u001b[0m \u001b[0mValueError\u001b[0m\u001b[0;34m\u001b[0m\u001b[0;34m\u001b[0m\u001b[0m\n\u001b[0m\u001b[1;32m     49\u001b[0m         \u001b[0mself\u001b[0m\u001b[0;34m.\u001b[0m\u001b[0mstatus\u001b[0m \u001b[0;34m=\u001b[0m \u001b[0mstatus\u001b[0m\u001b[0;34m\u001b[0m\u001b[0;34m\u001b[0m\u001b[0m\n\u001b[1;32m     50\u001b[0m \u001b[0;34m\u001b[0m\u001b[0m\n",
            "\u001b[0;31mValueError\u001b[0m: "
          ]
        }
      ],
      "source": [
        "## DO NOT MODIFY THE IMPLEMENTATION OF THE Person CLASS ##\n",
        "class Person(object):\n",
        "    def __init__(self, name):\n",
        "        #create a person with name name\n",
        "        self.name = name\n",
        "        try:\n",
        "            firstBlank = name.rindex(' ')\n",
        "            self.lastName = name[firstBlank+1:]\n",
        "        except:\n",
        "            self.lastName = name\n",
        "        self.age = None\n",
        "    def getLastName(self):\n",
        "        #return self's last name\n",
        "        return self.lastName\n",
        "    def setAge(self, age):\n",
        "        #assumes age is an int greater than 0\n",
        "        #sets self's age to age (in years)\n",
        "        self.age = age\n",
        "    def getAge(self):\n",
        "        #assumes that self's age has been set\n",
        "        #returns self's current age in years\n",
        "        if self.age == None:\n",
        "            raise ValueError\n",
        "        return self.age\n",
        "    def __lt__(self, other):\n",
        "        #return True if self's name is lexicographically less\n",
        "        #than other's name, and False otherwise\n",
        "        if self.lastName == other.lastName:\n",
        "            return self.name < other.name\n",
        "        return self.lastName < other.lastName\n",
        "    def __str__(self):\n",
        "        #return self's name\n",
        "        return self.name\n",
        "\n",
        "class USResident(Person):\n",
        "    \"\"\"\n",
        "    A Person who resides in the US.\n",
        "    \"\"\"\n",
        "    def __init__(self, name, status):\n",
        "        \"\"\"\n",
        "        Initializes a Person object. A USResident object inherits\n",
        "        from Person and has one additional attribute:\n",
        "        status: a string, one of \"citizen\", \"legal_resident\", \"illegal_resident\"\n",
        "        Raises a ValueError if status is not one of those 3 strings\n",
        "        \"\"\"\n",
        "        super().__init__(name)\n",
        "        if status not in ['citizen', 'legal_resident', 'illegal_resident']:\n",
        "            raise ValueError\n",
        "        self.status = status\n",
        "\n",
        "    def getStatus(self):\n",
        "        \"\"\"\n",
        "        Returns the status\n",
        "        \"\"\"\n",
        "        return self.status\n",
        "\n",
        "a = USResident('Tim Beaver', 'citizen')\n",
        "print(a.getStatus())\n",
        "b = USResident('Tim Horton', 'non-resident')"
      ]
    }
  ]
}