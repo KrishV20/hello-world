{
  "nbformat": 4,
  "nbformat_minor": 0,
  "metadata": {
    "colab": {
      "provenance": [],
      "authorship_tag": "ABX9TyP/rc8kBGhGG3MLOgPkGJr6",
      "include_colab_link": true
    },
    "kernelspec": {
      "name": "python3",
      "display_name": "Python 3"
    },
    "language_info": {
      "name": "python"
    }
  },
  "cells": [
    {
      "cell_type": "markdown",
      "metadata": {
        "id": "view-in-github",
        "colab_type": "text"
      },
      "source": [
        "<a href=\"https://colab.research.google.com/github/KrishV20/hello-world/blob/main/CodingProblemSet2.ipynb\" target=\"_parent\"><img src=\"https://colab.research.google.com/assets/colab-badge.svg\" alt=\"Open In Colab\"/></a>"
      ]
    },
    {
      "cell_type": "code",
      "execution_count": 50,
      "metadata": {
        "colab": {
          "base_uri": "https://localhost:8080/"
        },
        "id": "csMW6yTE0hKk",
        "outputId": "19487630-c4a3-489d-9352-6b6daa6a8326"
      },
      "outputs": [
        {
          "output_type": "stream",
          "name": "stdout",
          "text": [
            "Month: 1\n",
            "Minimum monthly payment: $100.00\n",
            "Remaining balance: $4973.50\n",
            "===========================\n",
            "Month: 2\n",
            "Minimum monthly payment: $99.47\n",
            "Remaining balance: $4947.14\n",
            "===========================\n",
            "Month: 3\n",
            "Minimum monthly payment: $98.94\n",
            "Remaining balance: $4920.92\n",
            "===========================\n",
            "Month: 4\n",
            "Minimum monthly payment: $98.42\n",
            "Remaining balance: $4894.84\n",
            "===========================\n",
            "Month: 5\n",
            "Minimum monthly payment: $97.90\n",
            "Remaining balance: $4868.90\n",
            "===========================\n",
            "Month: 6\n",
            "Minimum monthly payment: $97.38\n",
            "Remaining balance: $4843.09\n",
            "===========================\n",
            "Month: 7\n",
            "Minimum monthly payment: $96.86\n",
            "Remaining balance: $4817.42\n",
            "===========================\n",
            "Month: 8\n",
            "Minimum monthly payment: $96.35\n",
            "Remaining balance: $4791.89\n",
            "===========================\n",
            "Month: 9\n",
            "Minimum monthly payment: $95.84\n",
            "Remaining balance: $4766.49\n",
            "===========================\n",
            "Month: 10\n",
            "Minimum monthly payment: $95.33\n",
            "Remaining balance: $4741.23\n",
            "===========================\n",
            "Month: 11\n",
            "Minimum monthly payment: $94.82\n",
            "Remaining balance: $4716.10\n",
            "===========================\n",
            "Month: 12\n",
            "Minimum monthly payment: $94.32\n",
            "Remaining balance: $4691.11\n",
            "===========================\n",
            "Total paid:  1131.86\n",
            "Remaining balance after one year: $4691.11\n"
          ]
        }
      ],
      "source": [
        "balance = 5000.0\n",
        "annualInterestRate = 0.18\n",
        "monthlyPaymentRate = 0.02\n",
        "\n",
        "def calcBalance(balance, annualInterestRate, monthlyPaymentRate):\n",
        "    for month in range(1, 13):\n",
        "        minimumPayment = balance * monthlyPaymentRate\n",
        "        unpaidBalance = balance - minimumPayment\n",
        "        addedInterest = (annualInterestRate / 12.0) * unpaidBalance\n",
        "        balance = unpaidBalance + addedInterest\n",
        "\n",
        "        print('Month: ' + str(month))\n",
        "        print(f\"Minimum monthly payment: ${minimumPayment:.2f}\")\n",
        "        print(f\"Remaining balance: ${balance:.2f}\")\n",
        "        print('===========================')\n",
        "\n",
        "    print (f\"Total paid:  {month * minimumPayment:.2f}\")\n",
        "    print(f\"Remaining balance after one year: ${balance:.2f}\")\n",
        "\n",
        "calcBalance(balance, annualInterestRate, monthlyPaymentRate)\n",
        "\n"
      ]
    },
    {
      "cell_type": "code",
      "source": [
        "balance = 5000.0\n",
        "annualInterestRate = 0.18\n",
        "minimumMonthlyPayment = 10\n",
        "\n",
        "monthlyInterestRate = annualInterestRate / 12.0\n",
        "\n",
        "while True:\n",
        "    remainingBalance = balance\n",
        "    for month in range(1,13):\n",
        "        remainingBalance -= minimumMonthlyPayment\n",
        "        remainingBalance += remainingBalance * monthlyInterestRate\n",
        "\n",
        "    if remainingBalance <= 0:\n",
        "        break\n",
        "    else:\n",
        "        minimumMonthlyPayment += 10\n",
        "        remainingBalance = balance\n",
        "\n",
        "print(f\"Lowest Payment: {minimumMonthlyPayment}\")"
      ],
      "metadata": {
        "colab": {
          "base_uri": "https://localhost:8080/"
        },
        "id": "Euf7ZqRsiAL-",
        "outputId": "5f56edae-a14e-4e4a-9645-580be3b7e1e5"
      },
      "execution_count": 67,
      "outputs": [
        {
          "output_type": "stream",
          "name": "stdout",
          "text": [
            "Lowest Payment: 460\n"
          ]
        }
      ]
    },
    {
      "cell_type": "code",
      "source": [
        "balance = 5000.0\n",
        "annualInterestRate = 0.18\n",
        "monthlyInterestRate = annualInterestRate / 12.0\n",
        "\n",
        "low = balance * 1/12\n",
        "high = balance * (annualInterestRate + 1)\n",
        "payment = (high + low) / 2\n",
        "\n",
        "while True:\n",
        "    remainingBalance = balance\n",
        "    for month in range(1,13):\n",
        "        remainingBalance -= payment\n",
        "        remainingBalance += remainingBalance * monthlyInterestRate\n",
        "\n",
        "    if 0 < remainingBalance <= 1:\n",
        "        print(f\"Lowest Payment: {payment:.2f}\")\n",
        "        break\n",
        "    elif remainingBalance < 0:\n",
        "        high = payment\n",
        "        payment = (high + low) / 2\n",
        "    else:\n",
        "        low = payment\n",
        "        payment = (high + low) / 2\n",
        "\n",
        "\n",
        ""
      ],
      "metadata": {
        "colab": {
          "base_uri": "https://localhost:8080/"
        },
        "id": "KBcGtpS24qoz",
        "outputId": "7e47c705-3167-468f-de0e-3a142206ca4e"
      },
      "execution_count": 73,
      "outputs": [
        {
          "output_type": "stream",
          "name": "stdout",
          "text": [
            "Lowest Payment: 451.56\n"
          ]
        }
      ]
    }
  ]
}