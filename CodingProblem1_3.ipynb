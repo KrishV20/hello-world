{
  "nbformat": 4,
  "nbformat_minor": 0,
  "metadata": {
    "colab": {
      "provenance": [],
      "authorship_tag": "ABX9TyP2qRGrEX+q4nB4GsjcEMaT",
      "include_colab_link": true
    },
    "kernelspec": {
      "name": "python3",
      "display_name": "Python 3"
    },
    "language_info": {
      "name": "python"
    }
  },
  "cells": [
    {
      "cell_type": "markdown",
      "metadata": {
        "id": "view-in-github",
        "colab_type": "text"
      },
      "source": [
        "<a href=\"https://colab.research.google.com/github/KrishV20/hello-world/blob/main/CodingProblem1_3.ipynb\" target=\"_parent\"><img src=\"https://colab.research.google.com/assets/colab-badge.svg\" alt=\"Open In Colab\"/></a>"
      ]
    },
    {
      "cell_type": "code",
      "execution_count": 16,
      "metadata": {
        "colab": {
          "base_uri": "https://localhost:8080/"
        },
        "id": "83AOP6sW7V3q",
        "outputId": "718c2263-3077-47a7-b510-c90d374ae1fd"
      },
      "outputs": [
        {
          "output_type": "stream",
          "name": "stdout",
          "text": [
            "Longest substring in alphabetical order:  beggh\n"
          ]
        }
      ],
      "source": [
        "s = 'azcbobobegghakl';\n",
        "LongestSub = '';\n",
        "\n",
        "for i in range(len(s)):\n",
        "  for j in range(i, (len(s)-1)):\n",
        "    CurrentSub = s[i];\n",
        "    if (s[j] <= s[j+1]):\n",
        "      CurrentSub = s[i:(j+2)];\n",
        "      if (len(CurrentSub) >= len(LongestSub)):\n",
        "        LongestSub = CurrentSub;\n",
        "    else:\n",
        "        break;\n",
        "\n",
        "print('Longest substring in alphabetical order: ', LongestSub);\n",
        "\n",
        "\n"
      ]
    }
  ]
}