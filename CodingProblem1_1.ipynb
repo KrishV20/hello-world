{
  "nbformat": 4,
  "nbformat_minor": 0,
  "metadata": {
    "colab": {
      "provenance": [],
      "authorship_tag": "ABX9TyPAM9kn0YkwtFaMWG4PFpOm",
      "include_colab_link": true
    },
    "kernelspec": {
      "name": "python3",
      "display_name": "Python 3"
    },
    "language_info": {
      "name": "python"
    }
  },
  "cells": [
    {
      "cell_type": "markdown",
      "metadata": {
        "id": "view-in-github",
        "colab_type": "text"
      },
      "source": [
        "<a href=\"https://colab.research.google.com/github/KrishV20/hello-world/blob/main/CodingProblem1_1.ipynb\" target=\"_parent\"><img src=\"https://colab.research.google.com/assets/colab-badge.svg\" alt=\"Open In Colab\"/></a>"
      ]
    },
    {
      "cell_type": "code",
      "execution_count": 5,
      "metadata": {
        "colab": {
          "base_uri": "https://localhost:8080/"
        },
        "id": "xl9NTcinVToP",
        "outputId": "3cd8014b-4494-4d6d-c0cd-e3791d204d90"
      },
      "outputs": [
        {
          "output_type": "stream",
          "name": "stdout",
          "text": [
            "Number of vowels:  5\n"
          ]
        }
      ],
      "source": [
        "s = 'azcbobobegghakl';\n",
        "counts = 0;\n",
        "\n",
        "for e in s:\n",
        "  if e in 'aeiou':\n",
        "    counts += 1\n",
        "\n",
        "print (\"Number of vowels: \", counts);\n"
      ]
    },
    {
      "cell_type": "code",
      "source": [
        "s = 'azcbobobegghakl';\n",
        "bob = 0;\n",
        "\n",
        "for i in range(len(s)-2):\n",
        "  if s[i:(i+3)] == 'bob':\n",
        "   bob += 1\n",
        "\n",
        "print ('Number of time bob occurs is: ', bob);"
      ],
      "metadata": {
        "colab": {
          "base_uri": "https://localhost:8080/"
        },
        "id": "dJL-L7uMtFXk",
        "outputId": "289d3090-4e25-405e-d5bc-5e238bf8ccc0"
      },
      "execution_count": 9,
      "outputs": [
        {
          "output_type": "stream",
          "name": "stdout",
          "text": [
            "Number of time bob occurs is:  2\n"
          ]
        }
      ]
    }
  ]
}