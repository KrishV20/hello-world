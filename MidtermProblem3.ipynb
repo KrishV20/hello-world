{
  "nbformat": 4,
  "nbformat_minor": 0,
  "metadata": {
    "colab": {
      "provenance": [],
      "authorship_tag": "ABX9TyMc3Cea3ghl1Vl9Bsn9wSWw",
      "include_colab_link": true
    },
    "kernelspec": {
      "name": "python3",
      "display_name": "Python 3"
    },
    "language_info": {
      "name": "python"
    }
  },
  "cells": [
    {
      "cell_type": "markdown",
      "metadata": {
        "id": "view-in-github",
        "colab_type": "text"
      },
      "source": [
        "<a href=\"https://colab.research.google.com/github/KrishV20/hello-world/blob/main/MidtermProblem3.ipynb\" target=\"_parent\"><img src=\"https://colab.research.google.com/assets/colab-badge.svg\" alt=\"Open In Colab\"/></a>"
      ]
    },
    {
      "cell_type": "code",
      "execution_count": null,
      "metadata": {
        "colab": {
          "base_uri": "https://localhost:8080/"
        },
        "id": "bh4mlsH_yh2h",
        "outputId": "c0c1ecdd-0965-4e13-ec2a-1dfbf2da330a"
      },
      "outputs": [
        {
          "output_type": "stream",
          "name": "stdout",
          "text": [
            "402\n"
          ]
        }
      ],
      "source": [
        "def evalQuadratic(a, b, c, x):\n",
        "\n",
        "  return a*x*x + b*x + c\n",
        "\n",
        "def twoQuadratics(a1, b1, c1, x1, a2, b2, c2, x2):\n",
        "\n",
        "  return evalQuadratic(a1, b1, c1, x1) + evalQuadratic(a2, b2, c2, x2)\n",
        "\n",
        "print(twoQuadratics(1, 2, 3, 4, 5, 6, 7, 8))"
      ]
    }
  ]
}