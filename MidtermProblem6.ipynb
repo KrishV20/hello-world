{
  "nbformat": 4,
  "nbformat_minor": 0,
  "metadata": {
    "colab": {
      "provenance": [],
      "authorship_tag": "ABX9TyOwDoYUXiMuuMaB6xaKlFzh",
      "include_colab_link": true
    },
    "kernelspec": {
      "name": "python3",
      "display_name": "Python 3"
    },
    "language_info": {
      "name": "python"
    }
  },
  "cells": [
    {
      "cell_type": "markdown",
      "metadata": {
        "id": "view-in-github",
        "colab_type": "text"
      },
      "source": [
        "<a href=\"https://colab.research.google.com/github/KrishV20/hello-world/blob/main/MidtermProblem6.ipynb\" target=\"_parent\"><img src=\"https://colab.research.google.com/assets/colab-badge.svg\" alt=\"Open In Colab\"/></a>"
      ]
    },
    {
      "cell_type": "code",
      "execution_count": null,
      "metadata": {
        "colab": {
          "base_uri": "https://localhost:8080/"
        },
        "id": "VJbX68J2f0OX",
        "outputId": "56c8f2d1-19f1-4b8a-d668-75e3e2b9acd7"
      },
      "outputs": [
        {
          "output_type": "stream",
          "name": "stdout",
          "text": [
            "9\n"
          ]
        }
      ],
      "source": [
        "def max_val(t):\n",
        "\n",
        "  maxValue = float('-inf')\n",
        "\n",
        "  for element in t:\n",
        "    if isinstance(element, int):\n",
        "      maxValue = max(maxValue, element)\n",
        "    elif isinstance(element, (tuple, list)):\n",
        "      maxValue = max(maxValue, max_val(element))\n",
        "\n",
        "\n",
        "  return maxValue\n",
        "\n",
        "print(max_val((5, (1,2), [[1],[9]])))"
      ]
    }
  ]
}