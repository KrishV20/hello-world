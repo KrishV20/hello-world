{
  "nbformat": 4,
  "nbformat_minor": 0,
  "metadata": {
    "colab": {
      "provenance": [],
      "authorship_tag": "ABX9TyNdVYx2qYitrOutZZPoP1Zs",
      "include_colab_link": true
    },
    "kernelspec": {
      "name": "python3",
      "display_name": "Python 3"
    },
    "language_info": {
      "name": "python"
    }
  },
  "cells": [
    {
      "cell_type": "markdown",
      "metadata": {
        "id": "view-in-github",
        "colab_type": "text"
      },
      "source": [
        "<a href=\"https://colab.research.google.com/github/KrishV20/hello-world/blob/main/FinalProblem5.ipynb\" target=\"_parent\"><img src=\"https://colab.research.google.com/assets/colab-badge.svg\" alt=\"Open In Colab\"/></a>"
      ]
    },
    {
      "cell_type": "code",
      "execution_count": 4,
      "metadata": {
        "colab": {
          "base_uri": "https://localhost:8080/"
        },
        "id": "MDRlEHoipVfv",
        "outputId": "8fcc8745-4aa5-4119-9d13-d40c20f183c1"
      },
      "outputs": [
        {
          "output_type": "stream",
          "name": "stdout",
          "text": [
            "4:2\n",
            "\n",
            "4:1\n",
            "\n",
            "True\n",
            "True\n",
            "True\n"
          ]
        }
      ],
      "source": [
        "class Container(object):\n",
        "  \"\"\" Holds hashable objects. Objects may occur 0 or more times \"\"\"\n",
        "  def __init__(self):\n",
        "     self.vals = {}\n",
        "  def insert(self, e):\n",
        "      try:\n",
        "        self.vals[e] += 1\n",
        "      except:\n",
        "        self.vals[e] = 1\n",
        "  def __str__(self):\n",
        "    s = \"\"\n",
        "    for i in sorted(self.vals.keys()):\n",
        "      if self.vals[i] != 0:\n",
        "        s += str(i)+\":\"+str(self.vals[i])+\"\\n\"\n",
        "    return s\n",
        "\n",
        "class ASet(Container):\n",
        "  def remove(self, e):\n",
        "    try:\n",
        "      self.vals[e] -= 1\n",
        "    except:\n",
        "      pass\n",
        "  def is_in(self, e):\n",
        "    if e in self.vals:\n",
        "      return True\n",
        "    else:\n",
        "      return False\n",
        "\n",
        "d1 = ASet()\n",
        "d1.insert(4)\n",
        "d1.insert(4)\n",
        "d1.remove(2)\n",
        "print(d1)\n",
        "d1.remove(4)\n",
        "print(d1)\n",
        "\n",
        "d1 = ASet()\n",
        "d1.insert(4)\n",
        "print(d1.is_in(4))\n",
        "d1.insert(5)\n",
        "print(d1.is_in(5))\n",
        "d1.remove(5)\n",
        "print(d1.is_in(5))"
      ]
    }
  ]
}