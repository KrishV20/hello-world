{
  "nbformat": 4,
  "nbformat_minor": 0,
  "metadata": {
    "colab": {
      "provenance": [],
      "authorship_tag": "ABX9TyPdGejlKzSdN3b6kxPM+bOy",
      "include_colab_link": true
    },
    "kernelspec": {
      "name": "python3",
      "display_name": "Python 3"
    },
    "language_info": {
      "name": "python"
    }
  },
  "cells": [
    {
      "cell_type": "markdown",
      "metadata": {
        "id": "view-in-github",
        "colab_type": "text"
      },
      "source": [
        "<a href=\"https://colab.research.google.com/github/KrishV20/hello-world/blob/main/MidtermProblem7.ipynb\" target=\"_parent\"><img src=\"https://colab.research.google.com/assets/colab-badge.svg\" alt=\"Open In Colab\"/></a>"
      ]
    },
    {
      "cell_type": "code",
      "execution_count": 8,
      "metadata": {
        "colab": {
          "base_uri": "https://localhost:8080/"
        },
        "id": "94R78RxmoUwD",
        "outputId": "7b3b88e3-2b80-437e-90e1-9e1a8613870c"
      },
      "outputs": [
        {
          "output_type": "stream",
          "name": "stdout",
          "text": [
            "['b', 'c']\n"
          ]
        }
      ],
      "source": [
        "def statisfiesF (L):\n",
        "\n",
        "  L[:] = [s for s in L if not f(s)]\n",
        "\n",
        "def f(s):\n",
        "   return 'a' in s\n",
        "\n",
        "def run_satisfiesF(L,satisfiesF):\n",
        "    satisfiesF(L)\n",
        "    print(L)\n",
        "\n",
        "L = ['a','b','c']\n",
        "run_satisfiesF(L,statisfiesF)\n"
      ]
    }
  ]
}