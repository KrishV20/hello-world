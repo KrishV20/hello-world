{
  "nbformat": 4,
  "nbformat_minor": 0,
  "metadata": {
    "colab": {
      "provenance": [],
      "authorship_tag": "ABX9TyMWKGb7i5BBdrKlh26xnfFC",
      "include_colab_link": true
    },
    "kernelspec": {
      "name": "python3",
      "display_name": "Python 3"
    },
    "language_info": {
      "name": "python"
    }
  },
  "cells": [
    {
      "cell_type": "markdown",
      "metadata": {
        "id": "view-in-github",
        "colab_type": "text"
      },
      "source": [
        "<a href=\"https://colab.research.google.com/github/KrishV20/hello-world/blob/main/FinalProblem2.ipynb\" target=\"_parent\"><img src=\"https://colab.research.google.com/assets/colab-badge.svg\" alt=\"Open In Colab\"/></a>"
      ]
    },
    {
      "cell_type": "code",
      "execution_count": null,
      "metadata": {
        "colab": {
          "base_uri": "https://localhost:8080/"
        },
        "id": "ILrtnV6AG1D5",
        "outputId": "20a71880-7368-4bff-ca25-7eeab6cf2d99"
      },
      "outputs": [
        {
          "output_type": "stream",
          "name": "stdout",
          "text": [
            "[2, 3, 4, 5, 6, 7, 8, 9]\n"
          ]
        }
      ],
      "source": [
        "import math\n",
        "def isPrime(n):\n",
        "\n",
        "  for i in range(2, int(math.sqrt(n)), 1):\n",
        "    if n % i == 0:\n",
        "        return False\n",
        "  return True\n",
        "\n",
        "def primes_list(N):\n",
        "    primes = []\n",
        "    for num in range(2, N + 1):\n",
        "        if isPrime(num):\n",
        "            primes.append(num)\n",
        "    return primes\n",
        "print(primes_list(10))\n"
      ]
    }
  ]
}